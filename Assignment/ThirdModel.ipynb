{
 "cells": [
  {
   "cell_type": "code",
   "execution_count": 1,
   "id": "meaningful-charm",
   "metadata": {},
   "outputs": [],
   "source": [
    "import numpy as np\n",
    "import pandas as pd\n",
    "import matplotlib.pyplot as plt\n",
    "import seaborn as sns\n",
    "import tensorflow as tf\n",
    "from tensorflow.keras import layers, models, datasets"
   ]
  },
  {
   "cell_type": "markdown",
   "id": "skilled-cleaning",
   "metadata": {},
   "source": [
    "## Data Loading and Batching"
   ]
  },
  {
   "cell_type": "code",
   "execution_count": 2,
   "id": "driven-region",
   "metadata": {},
   "outputs": [],
   "source": [
    "# constant values\n",
    "IMAGE_WIDTH = 254\n",
    "IMAGE_HEIGHT = 254\n",
    "BATCH_SIZE = 32\n",
    "SEED = 123\n",
    "CLASS_NAMES = [\"Fire\", \"No_Fire\"]\n",
    "VALIDATION_SPLIT = 0.2"
   ]
  },
  {
   "cell_type": "code",
   "execution_count": 3,
   "id": "portuguese-great",
   "metadata": {},
   "outputs": [
    {
     "name": "stdout",
     "output_type": "stream",
     "text": [
      "Found 39375 files belonging to 2 classes.\n",
      "Using 31500 files for training.\n"
     ]
    }
   ],
   "source": [
    "# import images for training\n",
    "train_ds = tf.keras.preprocessing.image_dataset_from_directory(\n",
    "    directory='./Training',\n",
    "    labels='inferred',\n",
    "    color_mode='rgb',\n",
    "    image_size=(IMAGE_WIDTH, IMAGE_HEIGHT),\n",
    "    class_names=CLASS_NAMES,\n",
    "    validation_split=VALIDATION_SPLIT,\n",
    "    subset=\"training\",\n",
    "    seed=SEED,\n",
    "    batch_size=BATCH_SIZE\n",
    ")"
   ]
  },
  {
   "cell_type": "code",
   "execution_count": 4,
   "id": "accomplished-brain",
   "metadata": {},
   "outputs": [
    {
     "name": "stdout",
     "output_type": "stream",
     "text": [
      "Found 39375 files belonging to 2 classes.\n",
      "Using 7875 files for validation.\n"
     ]
    }
   ],
   "source": [
    "# import images for validation\n",
    "val_ds = tf.keras.preprocessing.image_dataset_from_directory(\n",
    "    directory='./Training',\n",
    "    labels='inferred',\n",
    "    color_mode='rgb',\n",
    "    image_size=(IMAGE_WIDTH, IMAGE_HEIGHT),\n",
    "    class_names=CLASS_NAMES,\n",
    "    validation_split=VALIDATION_SPLIT,\n",
    "    subset=\"validation\",\n",
    "    seed=SEED,\n",
    "    batch_size=BATCH_SIZE\n",
    ")"
   ]
  },
  {
   "cell_type": "code",
   "execution_count": 19,
   "id": "muslim-grocery",
   "metadata": {},
   "outputs": [
    {
     "name": "stdout",
     "output_type": "stream",
     "text": [
      "Found 8617 files belonging to 2 classes.\n"
     ]
    }
   ],
   "source": [
    "# import images for hold-out test\n",
    "test_ds = tf.keras.preprocessing.image_dataset_from_directory(\n",
    "    directory='./Test',\n",
    "    labels='inferred',\n",
    "    color_mode='rgb',\n",
    "    image_size=(IMAGE_WIDTH, IMAGE_HEIGHT),\n",
    "    class_names=CLASS_NAMES,\n",
    "    batch_size=BATCH_SIZE\n",
    ")"
   ]
  },
  {
   "cell_type": "markdown",
   "id": "flush-report",
   "metadata": {},
   "source": [
    "## Performance Optimisation"
   ]
  },
  {
   "cell_type": "code",
   "execution_count": 5,
   "id": "interesting-vehicle",
   "metadata": {},
   "outputs": [],
   "source": [
    "norm_layer = layers.experimental.preprocessing.Rescaling(1./255)"
   ]
  },
  {
   "cell_type": "code",
   "execution_count": 6,
   "id": "double-cursor",
   "metadata": {},
   "outputs": [],
   "source": [
    "BUFFER_SIZE = 512\n",
    "train_ds = train_ds.cache().prefetch(buffer_size=BUFFER_SIZE)\n",
    "val_ds = val_ds.cache().prefetch(buffer_size=BUFFER_SIZE)"
   ]
  },
  {
   "cell_type": "markdown",
   "id": "french-zambia",
   "metadata": {},
   "source": [
    "## Model Design"
   ]
  },
  {
   "cell_type": "code",
   "execution_count": 7,
   "id": "serious-packet",
   "metadata": {},
   "outputs": [],
   "source": [
    "NUM_OUTPUT = 2\n",
    "input_shape = (IMAGE_WIDTH, IMAGE_HEIGHT, 3)\n",
    "\n",
    "model = models.Sequential()\n",
    "model.add(norm_layer)\n",
    "model.add(layers.Conv2D(4, (3, 3), activation='relu', input_shape=input_shape))\n",
    "model.add(layers.MaxPooling2D((2, 2)))\n",
    "model.add(layers.Conv2D(8, (3, 3), activation='relu'))\n",
    "model.add(layers.MaxPooling2D((2, 2)))\n",
    "model.add(layers.Conv2D(8, (3, 3), activation='relu'))"
   ]
  },
  {
   "cell_type": "code",
   "execution_count": 8,
   "id": "floppy-albany",
   "metadata": {},
   "outputs": [],
   "source": [
    "model.add(layers.Flatten())\n",
    "model.add(layers.Dense(4, activation='relu'))\n",
    "model.add(layers.Dense(NUM_OUTPUT))"
   ]
  },
  {
   "cell_type": "markdown",
   "id": "stylish-numbers",
   "metadata": {},
   "source": [
    "## Model Compilation, Building and Fitting"
   ]
  },
  {
   "cell_type": "code",
   "execution_count": 9,
   "id": "automated-experience",
   "metadata": {},
   "outputs": [],
   "source": [
    "model.compile(\n",
    "    optimizer='adam',\n",
    "    loss=tf.keras.losses.BinaryCrossentropy(),\n",
    "    metrics='accuracy'\n",
    ")"
   ]
  },
  {
   "cell_type": "code",
   "execution_count": 10,
   "id": "copyrighted-nitrogen",
   "metadata": {},
   "outputs": [],
   "source": [
    "# model.build(train_ds)"
   ]
  },
  {
   "cell_type": "code",
   "execution_count": 11,
   "id": "inappropriate-crash",
   "metadata": {},
   "outputs": [],
   "source": [
    "# model.summary()"
   ]
  },
  {
   "cell_type": "code",
   "execution_count": 12,
   "id": "signed-puppy",
   "metadata": {
    "scrolled": true
   },
   "outputs": [
    {
     "name": "stdout",
     "output_type": "stream",
     "text": [
      "Epoch 1/5\n",
      "985/985 [==============================] - 494s 501ms/step - loss: 0.1663 - accuracy: 0.8536 - val_loss: 0.0804 - val_accuracy: 0.9792\n",
      "Epoch 2/5\n",
      "985/985 [==============================] - 495s 502ms/step - loss: 0.0919 - accuracy: 0.7764 - val_loss: 0.0560 - val_accuracy: 0.9855\n",
      "Epoch 3/5\n",
      "985/985 [==============================] - 518s 526ms/step - loss: 0.0746 - accuracy: 0.6585 - val_loss: 0.0642 - val_accuracy: 0.9662\n",
      "Epoch 4/5\n",
      "985/985 [==============================] - 501s 509ms/step - loss: 0.2675 - accuracy: 0.7075 - val_loss: 0.6891 - val_accuracy: 0.6409\n",
      "Epoch 5/5\n",
      "985/985 [==============================] - 536s 544ms/step - loss: 0.6651 - accuracy: 0.6340 - val_loss: 0.6530 - val_accuracy: 0.6409\n"
     ]
    }
   ],
   "source": [
    "history = model.fit(\n",
    "    train_ds,\n",
    "    validation_data=val_ds,\n",
    "    epochs=5\n",
    ")"
   ]
  },
  {
   "cell_type": "markdown",
   "id": "separate-despite",
   "metadata": {},
   "source": [
    "## Model Evaluation"
   ]
  },
  {
   "cell_type": "code",
   "execution_count": 21,
   "id": "higher-encounter",
   "metadata": {},
   "outputs": [
    {
     "data": {
      "image/png": "[encoded data removed]",
      "text/plain": [
       "<Figure size 432x288 with 1 Axes>"
      ]
     },
     "metadata": {
      "needs_background": "light"
     },
     "output_type": "display_data"
    }
   ],
   "source": [
    "plt.plot(history.history['accuracy'], label='accuracy')\n",
    "plt.plot(history.history['val_accuracy'], label = 'val_accuracy')\n",
    "plt.xlabel('Epoch')\n",
    "plt.ylabel('Accuracy')\n",
    "plt.ylim([0, 1])\n",
    "plt.legend(loc='center left', bbox_to_anchor=(1, 0.5))\n",
    "plt.show()"
   ]
  },
  {
   "cell_type": "code",
   "execution_count": 14,
   "id": "close-volume",
   "metadata": {},
   "outputs": [
    {
     "name": "stdout",
     "output_type": "stream",
     "text": [
      "Model: \"sequential\"\n",
      "_________________________________________________________________\n",
      "Layer (type)                 Output Shape              Param #   \n",
      "=================================================================\n",
      "rescaling (Rescaling)        (None, 254, 254, 3)       0         \n",
      "_________________________________________________________________\n",
      "conv2d (Conv2D)              (None, 252, 252, 4)       112       \n",
      "_________________________________________________________________\n",
      "max_pooling2d (MaxPooling2D) (None, 126, 126, 4)       0         \n",
      "_________________________________________________________________\n",
      "conv2d_1 (Conv2D)            (None, 124, 124, 8)       296       \n",
      "_________________________________________________________________\n",
      "max_pooling2d_1 (MaxPooling2 (None, 62, 62, 8)         0         \n",
      "_________________________________________________________________\n",
      "conv2d_2 (Conv2D)            (None, 60, 60, 8)         584       \n",
      "_________________________________________________________________\n",
      "flatten (Flatten)            (None, 28800)             0         \n",
      "_________________________________________________________________\n",
      "dense (Dense)                (None, 4)                 115204    \n",
      "_________________________________________________________________\n",
      "dense_1 (Dense)              (None, 2)                 10        \n",
      "=================================================================\n",
      "Total params: 116,206\n",
      "Trainable params: 116,206\n",
      "Non-trainable params: 0\n",
      "_________________________________________________________________\n"
     ]
    }
   ],
   "source": [
    "model.summary()"
   ]
  },
  {
   "cell_type": "code",
   "execution_count": 20,
   "id": "interesting-tunisia",
   "metadata": {},
   "outputs": [
    {
     "name": "stdout",
     "output_type": "stream",
     "text": [
      "270/270 - 58s - loss: 0.6805 - accuracy: 0.5961\n"
     ]
    }
   ],
   "source": [
    "test_loss, test_acc = model.evaluate(test_ds, verbose=2)"
   ]
  },
  {
   "cell_type": "code",
   "execution_count": 17,
   "id": "centered-destruction",
   "metadata": {},
   "outputs": [
    {
     "name": "stdout",
     "output_type": "stream",
     "text": [
      "Accuracy is:  0.6408888697624207\n"
     ]
    }
   ],
   "source": [
    "print(\"Testing accuracy is: \", test_acc)"
   ]
  },
  {
   "cell_type": "code",
   "execution_count": null,
   "id": "useful-lodging",
   "metadata": {},
   "outputs": [],
   "source": []
  }
 ],
 "metadata": {
  "kernelspec": {
   "display_name": "Python 3",
   "language": "python",
   "name": "python3"
  },
  "language_info": {
   "codemirror_mode": {
    "name": "ipython",
    "version": 3
   },
   "file_extension": ".py",
   "mimetype": "text/x-python",
   "name": "python",
   "nbconvert_exporter": "python",
   "pygments_lexer": "ipython3",
   "version": "3.8.5"
  }
 },
 "nbformat": 4,
 "nbformat_minor": 5
}
